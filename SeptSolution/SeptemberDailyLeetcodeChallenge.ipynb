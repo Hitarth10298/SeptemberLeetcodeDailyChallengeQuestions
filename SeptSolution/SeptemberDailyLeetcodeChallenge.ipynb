{
  "nbformat": 4,
  "nbformat_minor": 0,
  "metadata": {
    "colab": {
      "provenance": []
    },
    "kernelspec": {
      "name": "python3",
      "display_name": "Python 3"
    },
    "language_info": {
      "name": "python"
    }
  },
  "cells": [
    {
      "cell_type": "markdown",
      "source": [
        "Sep 1\n",
        "\n",
        "Given a binary tree root, a node X in the tree is named good if in the path from root to X there are no nodes with a value greater than X.\n",
        "\n",
        "Return the number of good nodes in the binary tree."
      ],
      "metadata": {
        "id": "DgrC9oo2OUxu"
      }
    },
    {
      "cell_type": "code",
      "source": [
        "# Definition for a binary tree node.\n",
        "class TreeNode:\n",
        "  def __init__(self, val=0, left=None, right=None):\n",
        "    self.val = val\n",
        "    self.left = left\n",
        "    self.right = right\n",
        "class Solution:\n",
        "    def goodNodes(self, root: TreeNode) -> int:\n",
        "        if not root:\n",
        "            return 0\n",
        "        def dfs(node, curMax):\n",
        "            if not node:\n",
        "                return \n",
        "            if node.val >= curMax:\n",
        "                count[0] += 1\n",
        "                curMax = node.val\n",
        "            dfs(node.left, curMax)\n",
        "            dfs(node.right, curMax)\n",
        "            \n",
        "        count = [0]\n",
        "        dfs(root, root.val)\n",
        "        return count[0]"
      ],
      "metadata": {
        "id": "GDbsAvqVOc46"
      },
      "execution_count": null,
      "outputs": []
    },
    {
      "cell_type": "markdown",
      "source": [
        "Sep 2\n",
        "\n",
        "Given the root of a binary tree, return the average value of the nodes on each level in the form of an array. Answers within 10-5 of the actual answer will be accepted."
      ],
      "metadata": {
        "id": "816m5W4FIbYh"
      }
    },
    {
      "cell_type": "code",
      "source": [
        "class TreeNode:\n",
        "  def __init__(self, val=0, left=None, right=None):\n",
        "    self.val = val\n",
        "    self.left = left\n",
        "    self.right = right\n",
        "class Solution:\n",
        "    def averageOfLevels(self, root):\n",
        "\n",
        "      queue = deque([root])\n",
        "      res = []\n",
        "      while queue:\n",
        "        level_len = count = len(queue)\n",
        "        level_sum = 0\n",
        "        while count:\n",
        "          node = queue.popleft()\n",
        "          level_sum += node.val\n",
        "          if node.left:\n",
        "            queue.append(node.left)\n",
        "          if node.right:\n",
        "            queue.append(node.right)\n",
        "            count -= 1\n",
        "        res.append(level_sum/level_len)\n",
        "      return res"
      ],
      "metadata": {
        "id": "mk__VMn2OsmF"
      },
      "execution_count": null,
      "outputs": []
    },
    {
      "cell_type": "markdown",
      "source": [
        "Sep 3\n",
        "\n",
        "Return all non-negative integers of length n such that the absolute difference between every two consecutive digits is k.\n",
        "\n",
        "Note that every number in the answer must not have leading zeros. For example, 01 has one leading zero and is invalid.\n",
        "\n",
        "You may return the answer in any order."
      ],
      "metadata": {
        "id": "WMBLkZDTwJqF"
      }
    },
    {
      "cell_type": "code",
      "source": [
        "class Solution:\n",
        "    def numsSameConsecDiff(self, n: int, k: int):\n",
        "        if n == 1:\n",
        "            return [i for i in range(10)]\n",
        "        \n",
        "        ans = []\n",
        "        def DFS(n, num):\n",
        "            if n == 0:\n",
        "                return ans.append(num)\n",
        "            \n",
        "            tail_digit = num % 10\n",
        "            next_digits = set([tail_digit + k, tail_digit - k])\n",
        "            \n",
        "            for next_digit in next_digits:\n",
        "                if 0 <= next_digit < 10:\n",
        "                    new_num = num * 10 + next_digit\n",
        "                    DFS(n-1, new_num)\n",
        "        \n",
        "        for num in range(1, 10):\n",
        "            DFS(n-1, num)\n",
        "        return list(ans)"
      ],
      "metadata": {
        "id": "Zibjle3owL7o"
      },
      "execution_count": null,
      "outputs": []
    },
    {
      "cell_type": "markdown",
      "source": [
        "Sep 4\n",
        "\n",
        "Given the root of a binary tree, calculate the vertical order traversal of the binary tree.\n",
        "\n",
        "For each node at position (row, col), its left and right children will be at positions (row + 1, col - 1) and (row + 1, col + 1) respectively. The root of the tree is at (0, 0).\n",
        "\n",
        "The vertical order traversal of a binary tree is a list of top-to-bottom orderings for each column index starting from the leftmost column and ending on the rightmost column. There may be multiple nodes in the same row and same column. In such a case, sort these nodes by their values.\n",
        "\n",
        "Return the vertical order traversal of the binary tree."
      ],
      "metadata": {
        "id": "0l3jWfNDK2QW"
      }
    },
    {
      "cell_type": "code",
      "source": [
        "class TreeNode:\n",
        "  def __init__(self, val=0, left=None, right=None):\n",
        "    self.val = val\n",
        "    self.left = left\n",
        "    self.right = right\n",
        "class Solution:\n",
        "    def verticalTraversal(self, root):\n",
        "\n",
        "      results = defaultdict(list)\n",
        "      queue = [ (root, 0, 0) ]\n",
        "        \n",
        "      while queue:\n",
        "        node, pos, depth = queue.pop(0)\n",
        "        if not node:\n",
        "          continue\n",
        "          results[(pos, depth)].append(node.val)\n",
        "          results[(pos, depth)].sort()\n",
        "          queue.extend( [ (node.left, pos-1, depth+1), (node.right, pos+1, depth+1) ] )\n",
        "      res = defaultdict(list)\n",
        "      keys = sorted(list(results.keys()), key=lambda x: (x[0], x[1]))\n",
        "        \n",
        "      for k in keys:\n",
        "        pos, depth = k\n",
        "        res[pos].extend(results[k])\n",
        "      return res.values()"
      ],
      "metadata": {
        "id": "YBvAfokoJA8r"
      },
      "execution_count": null,
      "outputs": []
    },
    {
      "cell_type": "markdown",
      "source": [
        "Sep 5\n",
        "\n",
        "Given an n-ary tree, return the level order traversal of its nodes' values.\n",
        "\n",
        "Nary-Tree input serialization is represented in their level order traversal, each group of children is separated by the null value"
      ],
      "metadata": {
        "id": "YNQT8hJHsWR_"
      }
    },
    {
      "cell_type": "code",
      "source": [
        "class Node:\n",
        "    def __init__(self, val=None, children=None):\n",
        "        self.val = val\n",
        "        self.children = children\n",
        "class Solution:\n",
        "    def levelOrder(self, root: 'Node'):\n",
        "\n",
        "      result = []\n",
        "      q = deque([root] if root else [])\n",
        "      while q:\n",
        "        result.append([])\n",
        "        for _ in range(len(q)):\n",
        "          node = q.popleft()\n",
        "          result[-1].append(node.val)\n",
        "          q.extend(node.children)\n",
        "      return result"
      ],
      "metadata": {
        "id": "T5T3dQMILWp8"
      },
      "execution_count": null,
      "outputs": []
    },
    {
      "cell_type": "markdown",
      "source": [
        "Sep 6\n",
        "\n",
        "Given the root of a binary tree, return the same tree where every subtree (of the given tree) not containing a 1 has been removed.\n",
        "\n",
        "A subtree of a node node is node plus every node that is a descendant of node."
      ],
      "metadata": {
        "id": "qylprW6WNf8C"
      }
    },
    {
      "cell_type": "code",
      "source": [
        "class TreeNode:\n",
        "  def __init__(self, val=0, left=None, right=None):\n",
        "    self.val = val\n",
        "    self.left = left\n",
        "    self.right = right\n",
        "class Solution:\n",
        "    def pruneTree(self, root):\n",
        "      if not root:\n",
        "        return None\n",
        "      root.left = self.pruneTree(root.left)\n",
        "      root.right = self.pruneTree(root.right)\n",
        "        \n",
        "      if root.left or root.right or root.val == 1:\n",
        "        return root\n",
        "      else:\n",
        "        return None"
      ],
      "metadata": {
        "id": "1tqhSIB6smBV"
      },
      "execution_count": null,
      "outputs": []
    },
    {
      "cell_type": "markdown",
      "source": [
        "Sep 7\n",
        "\n",
        "Given the root of a binary tree, construct a string consisting of parenthesis and integers from a binary tree with the preorder traversal way, and return it.\n",
        "\n",
        "Omit all the empty parenthesis pairs that do not affect the one-to-one mapping relationship between the string and the original binary tree."
      ],
      "metadata": {
        "id": "bUXr-YB7hyMI"
      }
    },
    {
      "cell_type": "code",
      "source": [
        "class TreeNode:\n",
        "  def __init__(self, val=0, left=None, right=None):\n",
        "    self.val = val\n",
        "    self.left = left\n",
        "    self.right = right\n",
        "class Solution:\n",
        "    def tree2str(self, root) -> str:\n",
        "      if not root:\n",
        "        return \"\"\n",
        "      if not root.left and not root.right:\n",
        "        return str(root.val)\n",
        "      if not root.right:\n",
        "        return str(root.val) + \"(\" + self.tree2str(root.left) + \")\"\n",
        "      return str(root.val) + \"(\" + self.tree2str(root.left) + \")(\" + self.tree2str(root.right) + \")\""
      ],
      "metadata": {
        "id": "nIHjCa9PN1Sc"
      },
      "execution_count": null,
      "outputs": []
    },
    {
      "cell_type": "markdown",
      "source": [
        "Sep 8\n",
        "\n",
        "Given the root of a binary tree, return the inorder traversal of its nodes' values."
      ],
      "metadata": {
        "id": "8G-HZhHzflsV"
      }
    },
    {
      "cell_type": "code",
      "source": [
        "class TreeNode:\n",
        "  def __init__(self, val=0, left=None, right=None):\n",
        "    self.val = val\n",
        "    self.left = left\n",
        "    self.right = right\n",
        "class Solution:\n",
        "    def inorderTraversal(self, root):\n",
        "      tree_vals = []\n",
        "        \n",
        "      def inorder(tree):\n",
        "        if tree:\n",
        "          inorder(tree.left)\n",
        "          tree_vals.append(tree.val)\n",
        "          inorder(tree.right)\n",
        "      inorder(root)\n",
        "        \n",
        "      return tree_vals"
      ],
      "metadata": {
        "id": "mQLD8OJXiLvT"
      },
      "execution_count": null,
      "outputs": []
    },
    {
      "cell_type": "markdown",
      "source": [
        "Sep 9\n",
        "\n",
        "You are playing a game that contains multiple characters, and each of the characters has two main properties: attack and defense. You are given a 2D integer array properties where properties[i] = [attacki, defensei] represents the properties of the ith character in the game.\n",
        "\n",
        "A character is said to be weak if any other character has both attack and defense levels strictly greater than this character's attack and defense levels. More formally, a character i is said to be weak if there exists another character j where attackj > attacki and defensej > defensei.\n",
        "\n",
        "Return the number of weak characters."
      ],
      "metadata": {
        "id": "v_XXcbpV2mje"
      }
    },
    {
      "cell_type": "code",
      "source": [
        "class Solution:\n",
        "    def numberOfWeakCharacters(self, properties) -> int:\n",
        "      properties.sort(key=lambda x: (-x[0], x[1]))\n",
        "      max_defense = 0\n",
        "      weak_count = 0\n",
        "        \n",
        "      for _, defense in properties:\n",
        "        if defense < max_defense:\n",
        "          weak_count += 1\n",
        "        else:\n",
        "          max_defense = defense\n",
        "      return weak_count"
      ],
      "metadata": {
        "id": "au8dIsv6gFMv"
      },
      "execution_count": null,
      "outputs": []
    },
    {
      "cell_type": "markdown",
      "source": [
        "Sep 10\n",
        "\n",
        "You are given an integer array prices where prices[i] is the price of a given stock on the ith day, and an integer k.\n",
        "\n",
        "Find the maximum profit you can achieve. You may complete at most k transactions.\n",
        "\n",
        "Note: You may not engage in multiple transactions simultaneously (i.e., you must sell the stock before you buy again)."
      ],
      "metadata": {
        "id": "eTJbFBW29ytn"
      }
    },
    {
      "cell_type": "code",
      "source": [
        "class Solution:\n",
        "    def maxProfit(self, k, prices) -> int:\n",
        "      min_price = [(1 << 24)] * (k+1)\n",
        "      max_profit = [0] * (k+1)\n",
        "        \n",
        "      for price in prices:\n",
        "        for i in range(1, k+1):\n",
        "          temp = price - max_profit[i-1]\n",
        "          if temp < min_price[i]:\n",
        "            min_price[i] = temp\n",
        "            temp = price - min_price[i]\n",
        "          if temp > max_profit[i]:\n",
        "            max_profit[i] = temp\n",
        "      return max_profit[k]"
      ],
      "metadata": {
        "id": "zM8UTT0T23bx"
      },
      "execution_count": null,
      "outputs": []
    },
    {
      "cell_type": "markdown",
      "source": [
        "Sep 11\n",
        "\n",
        "You are given two integers n and k and two integer arrays speed and efficiency both of length n. There are n engineers numbered from 1 to n. speed[i] and efficiency[i] represent the speed and efficiency of the ith engineer respectively.\n",
        "\n",
        "Choose at most k different engineers out of the n engineers to form a team with the maximum performance.\n",
        "\n",
        "The performance of a team is the sum of their engineers' speeds multiplied by the minimum efficiency among their engineers.\n",
        "\n",
        "Return the maximum performance of this team. Since the answer can be a huge number, return it modulo 109 + 7."
      ],
      "metadata": {
        "id": "7lwH5rViFJ-7"
      }
    },
    {
      "cell_type": "code",
      "source": [
        "class Solution:\n",
        "    def maxPerformance(self, n, speed, efficiency, k) -> int:\n",
        "      cur_sum, h = 0, []\n",
        "      ans = -float('inf')\n",
        "        \n",
        "      for i, j in sorted(zip(efficiency, speed), reverse=True):\n",
        "        while len(h) > k-1:\n",
        "          cur_sum -= heappop(h)\n",
        "          heappush(h, j)\n",
        "          cur_sum += j\n",
        "          ans = max(ans, cur_sum*i)\n",
        "      return ans % (10**9+7)"
      ],
      "metadata": {
        "id": "qUiAWWXZ-IFs"
      },
      "execution_count": null,
      "outputs": []
    },
    {
      "cell_type": "markdown",
      "source": [
        "Sep 12\n",
        "\n",
        "You have an initial power of power, an initial score of 0, and a bag of tokens where tokens[i] is the value of the ith token (0-indexed).\n",
        "\n",
        "Your goal is to maximize your total score by potentially playing each token in one of two ways:\n",
        "\n",
        "If your current power is at least tokens[i], you may play the ith token face up, losing tokens[i] power and gaining 1 score.\n",
        "If your current score is at least 1, you may play the ith token face down, gaining tokens[i] power and losing 1 score.\n",
        "Each token may be played at most once and in any order. You do not have to play all the tokens.\n",
        "\n",
        "Return the largest possible score you can achieve after playing any number of tokens."
      ],
      "metadata": {
        "id": "hwOteh1eeeQ1"
      }
    },
    {
      "cell_type": "code",
      "source": [
        "class Solution:\n",
        "    def bagOfTokensScore(self, tokens, power) -> int:\n",
        "      tokens.sort()\n",
        "      deque = collections.deque(tokens)\n",
        "      ans = bns = 0\n",
        "      while deque and (power >= deque[0] or bns):\n",
        "        while deque and power >= deque[0]:\n",
        "          power -= deque.popleft()\n",
        "          bns += 1\n",
        "          ans = max(ans, bns)\n",
        "            \n",
        "          if deque and bns:\n",
        "            power += deque.pop()\n",
        "            bns -= 1\n",
        "      return ans"
      ],
      "metadata": {
        "id": "JH9uqderFbJ_"
      },
      "execution_count": null,
      "outputs": []
    },
    {
      "cell_type": "markdown",
      "source": [
        "Sep 13\n",
        "\n",
        "A character in UTF8 can be from 1 to 4 bytes long, subjected to the following rules:\n",
        "\n",
        "For a 1-byte character, the first bit is a 0, followed by its Unicode code.\n",
        "For an n-bytes character, the first n bits are all one's, the n + 1 bit is 0, followed by n - 1 bytes with the most significant 2 bits being 10.\n",
        "This is how the UTF-8 encoding would work:\n",
        "\n",
        "     Number of Bytes   |        UTF-8 Octet Sequence\n",
        "                       |              (binary)\n",
        "   --------------------+-----------------------------------------\n",
        "            1          |   0xxxxxxx\n",
        "            2          |   110xxxxx 10xxxxxx\n",
        "            3          |   1110xxxx 10xxxxxx 10xxxxxx\n",
        "            4          |   11110xxx 10xxxxxx 10xxxxxx 10xxxxxx\n",
        "x denotes a bit in the binary form of a byte that may be either 0 or 1.\n",
        "\n",
        "Note: The input is an array of integers. Only the least significant 8 bits of each integer is used to store the data. This means each integer represents only 1 byte of data."
      ],
      "metadata": {
        "id": "n15p3uBFe8Q1"
      }
    },
    {
      "cell_type": "code",
      "source": [
        "class Solution:\n",
        "    def validUtf8(self, data) -> bool:\n",
        "      n_bytes = 0\n",
        "      mask1 = 1 << 7\n",
        "      mask2 = 1 << 6\n",
        "        \n",
        "      for num in data:\n",
        "        mask = 1 << 7\n",
        "        if n_bytes == 0:\n",
        "          while mask & num:\n",
        "            n_bytes += 1\n",
        "            mask = mask >> 1\n",
        "            if n_bytes == 0:\n",
        "              continue\n",
        "            if n_bytes == 1 or n_bytes > 4:\n",
        "              return False\n",
        "        else:\n",
        "          if not (num & mask1 and not (num & mask2)):\n",
        "            return False\n",
        "          n_bytes -= 1\n",
        "      return n_bytes == 0"
      ],
      "metadata": {
        "id": "PgPRwTrFe4ar"
      },
      "execution_count": null,
      "outputs": []
    },
    {
      "cell_type": "markdown",
      "source": [
        "Sep 14\n",
        "\n",
        "Given a binary tree where node values are digits from 1 to 9. A path in the binary tree is said to be pseudo-palindromic if at least one permutation of the node values in the path is a palindrome.\n",
        "\n",
        "Return the number of pseudo-palindromic paths going from the root node to leaf nodes."
      ],
      "metadata": {
        "id": "sTKOrdQLs52h"
      }
    },
    {
      "cell_type": "code",
      "source": [
        "class TreeNode:\n",
        "  def __init__(self, val=0, left=None, right=None):\n",
        "    self.val = val\n",
        "    self.left = left\n",
        "    self.right = right\n",
        "class Solution:\n",
        "    def pseudoPalindromicPaths (self, root):\n",
        "      count = 0\n",
        "        \n",
        "      stack = [(root, 0)]\n",
        "      while stack:\n",
        "        node, path = stack.pop()\n",
        "        if node is not None:\n",
        "          path = path^(1 << node.val)\n",
        "          if node.left is None and node.right is None:\n",
        "            if path & (path-1) == 0:\n",
        "              count += 1\n",
        "        else:\n",
        "          stack.append((node.right, path))\n",
        "          stack.append((node.left, path))\n",
        "                    \n",
        "      return count"
      ],
      "metadata": {
        "id": "nRVm69a8fTjc"
      },
      "execution_count": null,
      "outputs": []
    },
    {
      "cell_type": "markdown",
      "source": [
        "Sep 15\n",
        "\n",
        "An integer array original is transformed into a doubled array changed by appending twice the value of every element in original, and then randomly shuffling the resulting array.\n",
        "\n",
        "Given an array changed, return original if changed is a doubled array. If changed is not a doubled array, return an empty array. The elements in original may be returned in any order."
      ],
      "metadata": {
        "id": "NLOUvtWQwEN-"
      }
    },
    {
      "cell_type": "code",
      "source": [
        "class Solution:\n",
        "    def findOriginalArray(self, changed):\n",
        "      ans = []\n",
        "      vacans = []\n",
        "      if len(changed)%2:\n",
        "        return ans\n",
        "      changed.sort()\n",
        "        \n",
        "      temp = Counter(changed)\n",
        "      for i in changed:\n",
        "        if temp[i] == 0:\n",
        "          continue\n",
        "        else:\n",
        "          if temp.get(2*i, 0) >= 1:\n",
        "            ans.append(i)\n",
        "            temp[2*i] -= 1\n",
        "            temp[i] -= 1\n",
        "          else:\n",
        "            return vacans\n",
        "      return ans"
      ],
      "metadata": {
        "id": "y6cnC7hgta8C"
      },
      "execution_count": null,
      "outputs": []
    },
    {
      "cell_type": "markdown",
      "source": [
        "Sep 16\n",
        "\n",
        "You are given two integer arrays nums and multipliers of size n and m respectively, where n >= m. The arrays are 1-indexed.\n",
        "\n",
        "You begin with a score of 0. You want to perform exactly m operations. On the ith operation (1-indexed), you will:\n",
        "\n",
        "Choose one integer x from either the start or the end of the array nums.\n",
        "Add multipliers[i] * x to your score.\n",
        "Remove x from the array nums.\n",
        "Return the maximum score after performing m operations."
      ],
      "metadata": {
        "id": "snrdulVtGLOa"
      }
    },
    {
      "cell_type": "code",
      "source": [
        "class Solution:\n",
        "    def maximumScore(self, nums, multipliers):\n",
        "      score = [0]\n",
        "      mn = -1000*1000*1000\n",
        "      for rd, multiplier in enumerate(multipliers, 1):\n",
        "        l1 = [score[i]+num*multiplier for i, num in enumerate(nums[rd-1::-1])] + [mn]\n",
        "        l2 = [mn]+[score[i]+num*multiplier for i, num in enumerate(nums[:-(rd+1):-1])]\n",
        "        score = [max(l1[i], l2[i]) for i in range(rd+1)]\n",
        "      return max(score)"
      ],
      "metadata": {
        "id": "Y6cBy7oRwayQ"
      },
      "execution_count": 3,
      "outputs": []
    },
    {
      "cell_type": "markdown",
      "source": [
        "Sep 17\n",
        "\n",
        "Given a list of unique words, return all the pairs of the distinct indices (i, j) in the given list, so that the concatenation of the two words words[i] + words[j] is a palindrome."
      ],
      "metadata": {
        "id": "HkLgFu_aGNft"
      }
    },
    {
      "cell_type": "code",
      "source": [
        "class Solution:\n",
        "    def palindromePairs(self, words):\n",
        "      idx_map = {}\n",
        "      for i, word in enumerate(words):\n",
        "        idx_map[word] = i\n",
        "            \n",
        "      res = set()\n",
        "      for i, word in enumerate(words):\n",
        "        if not word:\n",
        "                # we don't process empty string by itself\n",
        "          continue\n",
        "            \n",
        "            # generate all possible LHS that would form\n",
        "            # a palindrome with current word\n",
        "        for j in range(len(word)):\n",
        "          current = word[:j]\n",
        "          target = word[j:][::-1]\n",
        "          if current == current[::-1] and target != word and target in idx_map:\n",
        "            res.add((idx_map[target], i))\n",
        "                    \n",
        "            # generate all possible RHS that would form\n",
        "            # a palindrome with current word\n",
        "          for j in range(len(word), -1, -1):\n",
        "            current = word[j:]\n",
        "            target = word[:j][::-1]\n",
        "            if current == current[::-1] and target != word and target in idx_map:\n",
        "              res.add((i, idx_map[target]))\n",
        "                    \n",
        "            # check if current word is already a palindrome and\n",
        "            # if we have an empty string in our map\n",
        "          if word == word[::-1] and \"\" in idx_map:\n",
        "            idx = idx_map[\"\"]\n",
        "            res.add((i, idx))\n",
        "            res.add((idx, i))\n",
        "\n",
        "      return list(res)"
      ],
      "metadata": {
        "id": "uAY73eEXGOmU"
      },
      "execution_count": 2,
      "outputs": []
    },
    {
      "cell_type": "markdown",
      "source": [
        "Sep 18\n",
        "\n",
        "Given n non-negative integers representing an elevation map where the width of each bar is 1, compute how much water it can trap after raining."
      ],
      "metadata": {
        "id": "IqOrDq5GGPRw"
      }
    },
    {
      "cell_type": "code",
      "source": [
        "class Solution:\n",
        "    def trap(self, height) -> int:\n",
        "      areas = 0\n",
        "      max_l, max_r = 0, 0\n",
        "      l = 0\n",
        "      r = len(height) - 1\n",
        "      while l < r:\n",
        "        if height[l] < height[r]:\n",
        "          if height[l] > max_l:\n",
        "            max_l = height[l]\n",
        "          else:\n",
        "            areas += max_l - height[l]\n",
        "            l += 1\n",
        "        else:\n",
        "          if height[r] > max_r:\n",
        "            max_r = height[r]\n",
        "          else:\n",
        "            areas += max_r - height[r]\n",
        "            r -= 1\n",
        "      return areas"
      ],
      "metadata": {
        "id": "axwL27OPGSoR"
      },
      "execution_count": 1,
      "outputs": []
    },
    {
      "cell_type": "code",
      "source": [],
      "metadata": {
        "id": "WKw-kA--Gio8"
      },
      "execution_count": null,
      "outputs": []
    }
  ]
}
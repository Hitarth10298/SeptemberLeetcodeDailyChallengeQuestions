{
  "nbformat": 4,
  "nbformat_minor": 0,
  "metadata": {
    "colab": {
      "provenance": []
    },
    "kernelspec": {
      "name": "python3",
      "display_name": "Python 3"
    },
    "language_info": {
      "name": "python"
    }
  },
  "cells": [
    {
      "cell_type": "markdown",
      "source": [
        "Sep 1\n",
        "\n",
        "Given a binary tree root, a node X in the tree is named good if in the path from root to X there are no nodes with a value greater than X.\n",
        "\n",
        "Return the number of good nodes in the binary tree."
      ],
      "metadata": {
        "id": "DgrC9oo2OUxu"
      }
    },
    {
      "cell_type": "code",
      "source": [
        "# Definition for a binary tree node.\n",
        "class TreeNode:\n",
        "  def __init__(self, val=0, left=None, right=None):\n",
        "    self.val = val\n",
        "    self.left = left\n",
        "    self.right = right\n",
        "class Solution:\n",
        "    def goodNodes(self, root: TreeNode) -> int:\n",
        "        if not root:\n",
        "            return 0\n",
        "        def dfs(node, curMax):\n",
        "            if not node:\n",
        "                return \n",
        "            if node.val >= curMax:\n",
        "                count[0] += 1\n",
        "                curMax = node.val\n",
        "            dfs(node.left, curMax)\n",
        "            dfs(node.right, curMax)\n",
        "            \n",
        "        count = [0]\n",
        "        dfs(root, root.val)\n",
        "        return count[0]"
      ],
      "metadata": {
        "id": "GDbsAvqVOc46"
      },
      "execution_count": null,
      "outputs": []
    },
    {
      "cell_type": "markdown",
      "source": [
        "Sep 2\n",
        "\n",
        "Given the root of a binary tree, return the average value of the nodes on each level in the form of an array. Answers within 10-5 of the actual answer will be accepted."
      ],
      "metadata": {
        "id": "816m5W4FIbYh"
      }
    },
    {
      "cell_type": "code",
      "source": [
        "class TreeNode:\n",
        "  def __init__(self, val=0, left=None, right=None):\n",
        "    self.val = val\n",
        "    self.left = left\n",
        "    self.right = right\n",
        "class Solution:\n",
        "    def averageOfLevels(self, root):\n",
        "\n",
        "      queue = deque([root])\n",
        "      res = []\n",
        "      while queue:\n",
        "        level_len = count = len(queue)\n",
        "        level_sum = 0\n",
        "        while count:\n",
        "          node = queue.popleft()\n",
        "          level_sum += node.val\n",
        "          if node.left:\n",
        "            queue.append(node.left)\n",
        "          if node.right:\n",
        "            queue.append(node.right)\n",
        "            count -= 1\n",
        "        res.append(level_sum/level_len)\n",
        "      return res"
      ],
      "metadata": {
        "id": "mk__VMn2OsmF"
      },
      "execution_count": 1,
      "outputs": []
    },
    {
      "cell_type": "markdown",
      "source": [
        "Sep 4\n",
        "\n",
        "Given the root of a binary tree, calculate the vertical order traversal of the binary tree.\n",
        "\n",
        "For each node at position (row, col), its left and right children will be at positions (row + 1, col - 1) and (row + 1, col + 1) respectively. The root of the tree is at (0, 0).\n",
        "\n",
        "The vertical order traversal of a binary tree is a list of top-to-bottom orderings for each column index starting from the leftmost column and ending on the rightmost column. There may be multiple nodes in the same row and same column. In such a case, sort these nodes by their values.\n",
        "\n",
        "Return the vertical order traversal of the binary tree."
      ],
      "metadata": {
        "id": "0l3jWfNDK2QW"
      }
    },
    {
      "cell_type": "code",
      "source": [
        "class TreeNode:\n",
        "  def __init__(self, val=0, left=None, right=None):\n",
        "    self.val = val\n",
        "    self.left = left\n",
        "    self.right = right\n",
        "class Solution:\n",
        "    def verticalTraversal(self, root):\n",
        "\n",
        "      results = defaultdict(list)\n",
        "      queue = [ (root, 0, 0) ]\n",
        "        \n",
        "      while queue:\n",
        "        node, pos, depth = queue.pop(0)\n",
        "        if not node:\n",
        "          continue\n",
        "          results[(pos, depth)].append(node.val)\n",
        "          results[(pos, depth)].sort()\n",
        "          queue.extend( [ (node.left, pos-1, depth+1), (node.right, pos+1, depth+1) ] )\n",
        "      res = defaultdict(list)\n",
        "      keys = sorted(list(results.keys()), key=lambda x: (x[0], x[1]))\n",
        "        \n",
        "      for k in keys:\n",
        "        pos, depth = k\n",
        "        res[pos].extend(results[k])\n",
        "      return res.values()"
      ],
      "metadata": {
        "id": "YBvAfokoJA8r"
      },
      "execution_count": 1,
      "outputs": []
    },
    {
      "cell_type": "markdown",
      "source": [
        "Sep 5\n",
        "\n",
        "Given an n-ary tree, return the level order traversal of its nodes' values.\n",
        "\n",
        "Nary-Tree input serialization is represented in their level order traversal, each group of children is separated by the null value"
      ],
      "metadata": {
        "id": "YNQT8hJHsWR_"
      }
    },
    {
      "cell_type": "code",
      "source": [
        "class Node:\n",
        "    def __init__(self, val=None, children=None):\n",
        "        self.val = val\n",
        "        self.children = children\n",
        "class Solution:\n",
        "    def levelOrder(self, root: 'Node'):\n",
        "\n",
        "      result = []\n",
        "      q = deque([root] if root else [])\n",
        "      while q:\n",
        "        result.append([])\n",
        "        for _ in range(len(q)):\n",
        "          node = q.popleft()\n",
        "          result[-1].append(node.val)\n",
        "          q.extend(node.children)\n",
        "      return result"
      ],
      "metadata": {
        "id": "T5T3dQMILWp8"
      },
      "execution_count": 1,
      "outputs": []
    },
    {
      "cell_type": "code",
      "source": [],
      "metadata": {
        "id": "1tqhSIB6smBV"
      },
      "execution_count": null,
      "outputs": []
    }
  ]
}
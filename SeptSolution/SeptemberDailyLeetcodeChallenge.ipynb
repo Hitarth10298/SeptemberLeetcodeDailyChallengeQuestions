{
  "nbformat": 4,
  "nbformat_minor": 0,
  "metadata": {
    "colab": {
      "provenance": []
    },
    "kernelspec": {
      "name": "python3",
      "display_name": "Python 3"
    },
    "language_info": {
      "name": "python"
    }
  },
  "cells": [
    {
      "cell_type": "markdown",
      "source": [
        "Sep 1\n",
        "\n",
        "Given a binary tree root, a node X in the tree is named good if in the path from root to X there are no nodes with a value greater than X.\n",
        "\n",
        "Return the number of good nodes in the binary tree."
      ],
      "metadata": {
        "id": "DgrC9oo2OUxu"
      }
    },
    {
      "cell_type": "code",
      "source": [
        "# Definition for a binary tree node.\n",
        "class TreeNode:\n",
        "  def __init__(self, val=0, left=None, right=None):\n",
        "    self.val = val\n",
        "    self.left = left\n",
        "    self.right = right\n",
        "class Solution:\n",
        "    def goodNodes(self, root: TreeNode) -> int:\n",
        "        if not root:\n",
        "            return 0\n",
        "        def dfs(node, curMax):\n",
        "            if not node:\n",
        "                return \n",
        "            if node.val >= curMax:\n",
        "                count[0] += 1\n",
        "                curMax = node.val\n",
        "            dfs(node.left, curMax)\n",
        "            dfs(node.right, curMax)\n",
        "            \n",
        "        count = [0]\n",
        "        dfs(root, root.val)\n",
        "        return count[0]"
      ],
      "metadata": {
        "id": "GDbsAvqVOc46"
      },
      "execution_count": 1,
      "outputs": []
    },
    {
      "cell_type": "code",
      "source": [],
      "metadata": {
        "id": "mk__VMn2OsmF"
      },
      "execution_count": null,
      "outputs": []
    }
  ]
}